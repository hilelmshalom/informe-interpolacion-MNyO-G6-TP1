{
 "cells": [
  {
   "cell_type": "code",
   "execution_count": 16,
   "metadata": {},
   "outputs": [],
   "source": [
    "import numpy as np\n",
    "from scipy import interpolate\n",
    "import matplotlib . pyplot as plt"
   ]
  },
  {
   "cell_type": "code",
   "execution_count": 38,
   "metadata": {},
   "outputs": [],
   "source": [
    "# Define the data from csv\n",
    "# data = np.genfromtxt('pvd_data/mnyo_mediciones.csv', delimiter=',', skip_header=1)\n",
    "\n",
    "data = [\n",
    "    [0.000000000000000000e+00, 3.241313193385525482e-01],\n",
    "    [8.517645089584206630e+00, 1.845643719589526777e+00],\n",
    "    [1.623720889996237204e+00, 2.910251234820271371e+00],\n",
    "    [1.286924818108026614e+01, 3.826099314719869415e+00],\n",
    "    [1.817616982401723646e+01, 4.655536721746078577e+00],\n",
    "    [1.233339209402911152e+01, 5.425660508915483682e+00],\n",
    "    [2.177622054412167074e+01, 5.535129191087542644e+00],\n",
    "    [2.457602173690377612e+01, 5.242338100374049681e+00],\n",
    "    [2.448679983957896056e+01, 4.902672492943741744e+00],\n",
    "    [3.344102121252131354e+01, 4.523027090696261965e+00]\n",
    "]"
   ]
  },
  {
   "cell_type": "code",
   "execution_count": 39,
   "metadata": {},
   "outputs": [
    {
     "name": "stdout",
     "output_type": "stream",
     "text": [
      "X_1 Time values:\n",
      "[ 0.          8.51764509  1.62372089 12.86924818 18.17616982 12.33339209\n",
      " 21.77622054 24.57602174 24.48679984 33.44102121] \n",
      "\n",
      "X_2 values:\n",
      "[0.32413132 1.84564372 2.91025123 3.82609931 4.65553672 5.42566051\n",
      " 5.53512919 5.2423381  4.90267249 4.52302709] \n",
      "\n"
     ]
    }
   ],
   "source": [
    "# Interpolación auto 1\n",
    "data_array = np.array(data)\n",
    "x_1_values = data_array[:, 0]  # Extracting time values\n",
    "x_2_values = data_array[:, 1]  # Extracting x values\n",
    "time_values = np.array(range(0,10))\n",
    "\n",
    "print(\"X_1 Time values:\")\n",
    "print(x_1_values,'\\n' )\n",
    "\n",
    "print(\"X_2 values:\")\n",
    "print(x_2_values,'\\n' )"
   ]
  },
  {
   "cell_type": "code",
   "execution_count": 40,
   "metadata": {},
   "outputs": [],
   "source": [
    "#Creando las funciones con la librería scipy\n",
    "inter_x_1 = interpolate.interp1d(time_values, x_1_values, 'cubic')\n",
    "inter_x_2 = interpolate.interp1d(time_values, x_2_values, 'cubic')\n",
    "\n",
    "\n",
    "#Declarando dominio e imagen con numpy\n",
    "ts = np.linspace(min(time_values), max(time_values), 100)\n",
    "x_1s = inter_x_1(ts)\n",
    "x_2s = inter_x_2(ts)"
   ]
  },
  {
   "cell_type": "code",
   "execution_count": null,
   "metadata": {},
   "outputs": [],
   "source": [
    "#Ploteando el gráfico\n",
    "plt.plot(x_1_values, x_2_values, 'rx', label='Datos Posición')\n",
    "plt.plot(x_1s, x_2s, 'm:', label='Interpolación doble')\n",
    "\n",
    "plt.title('Interpolación de trayectoria')\n",
    "plt.legend()\n",
    "plt.grid(True)\n",
    "plt.show()"
   ]
  }
 ],
 "metadata": {
  "kernelspec": {
   "display_name": "plotter",
   "language": "python",
   "name": "python3"
  },
  "language_info": {
   "codemirror_mode": {
    "name": "ipython",
    "version": 3
   },
   "file_extension": ".py",
   "mimetype": "text/x-python",
   "name": "python",
   "nbconvert_exporter": "python",
   "pygments_lexer": "ipython3",
   "version": "3.10.12"
  }
 },
 "nbformat": 4,
 "nbformat_minor": 2
}
